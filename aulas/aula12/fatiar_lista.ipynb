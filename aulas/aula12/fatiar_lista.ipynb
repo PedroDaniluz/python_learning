{
 "cells": [
  {
   "cell_type": "markdown",
   "metadata": {},
   "source": [
    "## Fatiando uma lista\n",
    "\n",
    "Fatiar lista é a partir de uma lista gerar um subconjunto, uma nova lista. Esse conceito também se aplica a Strings e tuplas."
   ]
  },
  {
   "cell_type": "code",
   "execution_count": null,
   "metadata": {},
   "outputs": [],
   "source": [
    "#           0  1   2   3   4   5   6   7   8   9\n",
    "#         -10 -9  -8  -7  -6  -5  -4  -3  -2  -1\n",
    "numeros = [0, 10, 20, 30, 40, 50, 60, 70, 80, 90]\n",
    "\n",
    "print(numeros[0])\n",
    "print(numeros[-1])"
   ]
  },
  {
   "cell_type": "markdown",
   "metadata": {},
   "source": [
    "## Testando o Passo\n",
    "``` python\n",
    "objeto[inicio: fim(menos ele): passo]\n",
    "```"
   ]
  },
  {
   "cell_type": "code",
   "execution_count": null,
   "metadata": {},
   "outputs": [],
   "source": [
    "#           0  1   2   3   4   5   6   7   8   9\n",
    "#         -10 -9  -8  -7  -6  -5  -4  -3  -2  -1\n",
    "numeros = [0, 10, 20, 30, 40, 50, 60, 70, 80, 90]\n",
    "\n",
    "print(numeros[2:9:2])\n",
    "print(numeros[2::])\n",
    "print(numeros[::-1])"
   ]
  },
  {
   "cell_type": "markdown",
   "metadata": {},
   "source": [
    "## Fatiando Strings\n",
    "String nada mais é do que uma lista de caracteres.<br>\n",
    "Cada caractere em uma String, representa um índice em uma lista.<br>\n",
    "**Exemplo:**"
   ]
  },
  {
   "cell_type": "code",
   "execution_count": null,
   "metadata": {},
   "outputs": [],
   "source": [
    "frase = \"Subi no onibus\"\n",
    "x = 7\n",
    "print(f\"{frase}, {x}\")\n",
    "print(frase[0])\n",
    "print(frase[:11])\n",
    "print(frase[::-1])"
   ]
  }
 ],
 "metadata": {
  "kernelspec": {
   "display_name": "Python 3",
   "language": "python",
   "name": "python3"
  },
  "language_info": {
   "codemirror_mode": {
    "name": "ipython",
    "version": 3
   },
   "file_extension": ".py",
   "mimetype": "text/x-python",
   "name": "python",
   "nbconvert_exporter": "python",
   "pygments_lexer": "ipython3",
   "version": "3.11.4"
  },
  "orig_nbformat": 4
 },
 "nbformat": 4,
 "nbformat_minor": 2
}
