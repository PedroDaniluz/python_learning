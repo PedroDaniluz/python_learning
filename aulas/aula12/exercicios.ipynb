{
 "cells": [
  {
   "cell_type": "markdown",
   "metadata": {},
   "source": [
    "## Exercícios\n",
    "\n",
    "1. Faça uma função que conte quantas letras \"A\" existe em uma frase ou palavra."
   ]
  },
  {
   "cell_type": "code",
   "execution_count": null,
   "metadata": {},
   "outputs": [],
   "source": [
    "def conta_a(frase: str):\n",
    "    aas = [\"a\", \"á\", \"à\", \"ã\", \"â\", \"A\", \"Á\", \"À\", \"Ã\", \"Â\"]\n",
    "    som = 0\n",
    "    for x in frase:\n",
    "        if x in aas:\n",
    "            som += 1\n",
    "    return som\n",
    "\n",
    "\n",
    "frs = \"Ola mundo python python alegria ebaa á Á à À ã Ã â Â\"\n",
    "print(f\"A frase '{frs}' tem {conta_a(frs)} caracteres 'A'.\")"
   ]
  },
  {
   "cell_type": "markdown",
   "source": [
    "2. Dada uma lista de strings por parâmetro, conte e retorne quantos caracteres há nela"
   ],
   "metadata": {
    "collapsed": false
   }
  },
  {
   "cell_type": "code",
   "execution_count": 1,
   "outputs": [
    {
     "name": "stdout",
     "output_type": "stream",
     "text": [
      "A lista contém 23 caracteres\n"
     ]
    }
   ],
   "source": [
    "def conta_carac(listr: list):\n",
    "    som = 0\n",
    "    for elem in listr:\n",
    "        for _ in elem:\n",
    "            som += 1\n",
    "    return som\n",
    "\n",
    "\n",
    "frs = [\"Python é saboroso\", \"python\"]\n",
    "print(f\"A lista contém {conta_carac(frs)} caracteres\")"
   ],
   "metadata": {
    "collapsed": false,
    "ExecuteTime": {
     "end_time": "2023-08-22T00:42:03.211981Z",
     "start_time": "2023-08-22T00:42:03.208709Z"
    }
   }
  },
  {
   "cell_type": "markdown",
   "source": [
    "3. Dada uma string e um caractere por parâmetro, conte e retorne quantos caracteres existem nessa lista"
   ],
   "metadata": {
    "collapsed": false
   }
  },
  {
   "cell_type": "code",
   "execution_count": null,
   "outputs": [],
   "source": [
    "def conta_especifico(frase: str, carac: str):\n",
    "    som = 0\n",
    "    for a in frase:\n",
    "        if carac == a:\n",
    "            som += 1\n",
    "    return som\n",
    "\n",
    "\n",
    "frs = \"peedro\"\n",
    "print(conta_especifico(frs, \"e\"))"
   ],
   "metadata": {
    "collapsed": false
   }
  }
 ],
 "metadata": {
  "kernelspec": {
   "display_name": "Python 3",
   "language": "python",
   "name": "python3"
  },
  "language_info": {
   "codemirror_mode": {
    "name": "ipython",
    "version": 3
   },
   "file_extension": ".py",
   "mimetype": "text/x-python",
   "name": "python",
   "nbconvert_exporter": "python",
   "pygments_lexer": "ipython3",
   "version": "3.11.4"
  },
  "orig_nbformat": 4
 },
 "nbformat": 4,
 "nbformat_minor": 2
}
