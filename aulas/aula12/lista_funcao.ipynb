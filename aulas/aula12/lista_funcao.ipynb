{
 "cells": [
  {
   "cell_type": "markdown",
   "metadata": {},
   "source": [
    "1. Crie uma rotina para adicionar elemento a uma lista até que digite ponto (.)"
   ]
  },
  {
   "cell_type": "code",
   "execution_count": 3,
   "metadata": {},
   "outputs": [
    {
     "name": "stdout",
     "output_type": "stream",
     "text": [
      "['sada65sd4', '654asd']\n"
     ]
    }
   ],
   "source": [
    "def preenche_lista(v: list):\n",
    "    while True:\n",
    "        elem = input(\"Digite um elemento: \")\n",
    "        if elem != \".\":\n",
    "            v.append(elem)\n",
    "        else:\n",
    "            break\n",
    "\n",
    "\n",
    "lista = list()\n",
    "preenche_lista(lista)\n",
    "print(lista)"
   ]
  },
  {
   "cell_type": "markdown",
   "metadata": {},
   "source": [
    "2. Crie um parâmetro para exibir a lista linha a linha"
   ]
  },
  {
   "cell_type": "code",
   "execution_count": 4,
   "metadata": {},
   "outputs": [
    {
     "name": "stdout",
     "output_type": "stream",
     "text": [
      "Elemento0: 12\n",
      "Elemento1: asd\n",
      "Elemento2: 564\n",
      "Elemento3: 654\n",
      "Elemento4: sad\n",
      "Elemento5: s\n",
      "Elemento6: sfd\n"
     ]
    }
   ],
   "source": [
    "def exibe_lista(v: list):\n",
    "    for ind, elem in enumerate(v):\n",
    "        print(f\"Elemento {ind}: {elem}\")\n",
    "\n",
    "\n",
    "lista = list()\n",
    "preenche_lista(lista)\n",
    "exibe_lista(lista)"
   ]
  }
 ],
 "metadata": {
  "kernelspec": {
   "display_name": "Python 3",
   "language": "python",
   "name": "python3"
  },
  "language_info": {
   "codemirror_mode": {
    "name": "ipython",
    "version": 3
   },
   "file_extension": ".py",
   "mimetype": "text/x-python",
   "name": "python",
   "nbconvert_exporter": "python",
   "pygments_lexer": "ipython3",
   "version": "3.11.4"
  },
  "orig_nbformat": 4
 },
 "nbformat": 4,
 "nbformat_minor": 2
}
