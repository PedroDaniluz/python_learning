{
 "cells": [
  {
   "cell_type": "markdown",
   "metadata": {},
   "source": [
    "# Métodos de Strings\n",
    "\n",
    "### join(lista_de_strings) -> str\n",
    "O método join() passa uma lista de strings por parâmetro e retorna uma string desta lista.<br>\n",
    "**Exemplo:**"
   ]
  },
  {
   "cell_type": "code",
   "execution_count": 2,
   "metadata": {},
   "outputs": [
    {
     "name": "stdout",
     "output_type": "stream",
     "text": [
      "['Edson', 'de', 'Oliveira'] Edson de Oliveira\n"
     ]
    }
   ],
   "source": [
    "nome = [\"Edson\", \"de\", \"Oliveira\"]\n",
    "str_nome = \" \".join(nome)\n",
    "print(nome, str_nome)"
   ]
  },
  {
   "cell_type": "markdown",
   "metadata": {},
   "source": [
    "### split(str) -> lista_de_str\n",
    "O método split() pega uma string e transforma em uma lista de strings.<br>\n",
    "**Exemplo:**"
   ]
  },
  {
   "cell_type": "code",
   "execution_count": 6,
   "metadata": {},
   "outputs": [
    {
     "name": "stdout",
     "output_type": "stream",
     "text": [
      "['Edson', 'de', 'Oliveira']\n",
      "['Edson', 'Oliveira']\n"
     ]
    }
   ],
   "source": [
    "nome = \"Edson de Oliveira\"\n",
    "print(nome.split())\n",
    "print(nome.split(\" de \"))"
   ]
  }
 ],
 "metadata": {
  "kernelspec": {
   "display_name": "Python 3",
   "language": "python",
   "name": "python3"
  },
  "language_info": {
   "codemirror_mode": {
    "name": "ipython",
    "version": 3
   },
   "file_extension": ".py",
   "mimetype": "text/x-python",
   "name": "python",
   "nbconvert_exporter": "python",
   "pygments_lexer": "ipython3",
   "version": "3.11.4"
  },
  "orig_nbformat": 4
 },
 "nbformat": 4,
 "nbformat_minor": 2
}
