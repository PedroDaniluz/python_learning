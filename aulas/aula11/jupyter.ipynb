{
 "cells": [
  {
   "attachments": {},
   "cell_type": "markdown",
   "metadata": {},
   "source": [
    "# Apresentação\n",
    "Esta é a nova IDE (Editor de códigos) que usaremos.\n",
    "\n",
    "### Para deixar parte do texto em negrito\n",
    "Basta colocar dois asteriscos antes e depois do **trecho em negrito**\n",
    "\n",
    "### Pulando linha em meio a um texto\n",
    "Quando estamos digitando precisamos colocar a tag br para pular linha.<br>\n",
    "**Exemplo:**<br>\n",
    "primeira linha<br>\n",
    "segunda linha\n",
    "\n",
    "### Referenciando um trecho do código como comentário\n",
    "No meio de um comentário sobre um código muitas vezes há a necessidade de representarmos um trecho de código não compilável, veja como fica:<br>\n",
    "\n",
    "```\n",
    "def nome_funcao(parametros) -> tipo de retorno\n",
    "\n",
    "    corpo da funcao\n",
    "\n",
    "    return valor_de_retorno\n",
    "```\n",
    "\n",
    "*Código python*\n",
    "```python\n",
    "def nome_funcao(parametros) -> tipo de retorno\n",
    "\n",
    "    corpo da funcao\n",
    "\n",
    "    return valor_de_retorno\n",
    "```"
   ]
  },
  {
   "cell_type": "code",
   "execution_count": 3,
   "metadata": {},
   "outputs": [
    {
     "name": "stdout",
     "output_type": "stream",
     "text": [
      "O dobro de 5 é 10\n"
     ]
    }
   ],
   "source": [
    "num = int(input(\"Digite um número\"))\n",
    "print(f\"O dobro de {num} é {num*2}\")"
   ]
  }
 ],
 "metadata": {
  "kernelspec": {
   "display_name": "Python 3",
   "language": "python",
   "name": "python3"
  },
  "language_info": {
   "codemirror_mode": {
    "name": "ipython",
    "version": 3
   },
   "file_extension": ".py",
   "mimetype": "text/x-python",
   "name": "python",
   "nbconvert_exporter": "python",
   "pygments_lexer": "ipython3",
   "version": "3.11.4"
  },
  "orig_nbformat": 4
 },
 "nbformat": 4,
 "nbformat_minor": 2
}
